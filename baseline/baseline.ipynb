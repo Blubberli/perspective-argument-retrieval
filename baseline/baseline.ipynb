{
 "cells": [
  {
   "cell_type": "markdown",
   "id": "b5c3e7bd-f182-421a-8e76-b8e009ec5158",
   "metadata": {},
   "source": [
    "## Install further packages"
   ]
  },
  {
   "cell_type": "code",
   "id": "cb669fe2-363d-412a-a1ff-27bb8d70401e",
   "metadata": {
    "scrolled": true
   },
   "source": [
    "!pip install sentence-transformers\n",
    "!pip install rank_bm25"
   ],
   "outputs": [],
   "execution_count": null
  },
  {
   "cell_type": "markdown",
   "id": "30efd0c6-11d1-4266-a2fa-554760b25beb",
   "metadata": {},
   "source": [
    "## Setup"
   ]
  },
  {
   "cell_type": "code",
   "id": "0a038d13-a0ca-4140-94bd-c68606cce11c",
   "metadata": {
    "jupyter": {
     "is_executing": true
    }
   },
   "source": [
    "import pandas as pd\n",
    "from sentence_transformers import SentenceTransformer\n",
    "from sklearn.metrics.pairwise import cosine_similarity\n",
    "from rank_bm25 import BM25Okapi\n",
    "import os\n",
    "import numpy\n",
    "from scripts.utils import read_gold_data"
   ],
   "outputs": [],
   "execution_count": null
  },
  {
   "cell_type": "code",
   "id": "67fac96f-94a5-43ca-9920-249454a86d91",
   "metadata": {},
   "source": [
    "data = read_gold_data(\"data-release\")\n",
    "corpus = data[\"corpus\"]\n",
    "baseline_queries_train = data[\"baseline\"][\"train\"]\n",
    "baseline_queries_dev = data[\"baseline\"][\"dev\"]\n"
   ],
   "outputs": [],
   "execution_count": null
  },
  {
   "cell_type": "markdown",
   "id": "f08440ae-3870-434e-90c9-a8064d456551",
   "metadata": {},
   "source": [
    "## SBERT Baseline\n",
    "Encode the plain text of the arguments and queries using a multi-lingual sbert model"
   ]
  },
  {
   "cell_type": "code",
   "id": "2c65e3d7-540f-4a3b-aa0e-262586819285",
   "metadata": {
    "jupyter": {
     "is_executing": true
    }
   },
   "source": [
    "sbert_encoder = SentenceTransformer(\"paraphrase-multilingual-mpnet-base-v2\")"
   ],
   "outputs": [],
   "execution_count": null
  },
  {
   "cell_type": "code",
   "id": "e7ec3165-4dc7-4906-bf18-d3671e4e0371",
   "metadata": {
    "jupyter": {
     "is_executing": true
    }
   },
   "source": [
    "corpus_embeddings = sbert_encoder.encode(corpus[\"argument\"].values)\n",
    "corpus[\"sbert_embeddings\"] = list(corpus_embeddings)"
   ],
   "outputs": [],
   "execution_count": null
  },
  {
   "cell_type": "code",
   "id": "765eaacf-8db8-4b4b-be04-d210bea5882b",
   "metadata": {},
   "source": [
    "query_train_embeddings = sbert_encoder.encode(baseline_queries_train[\"text\"].values) \n",
    "query_dev_embeddings = sbert_encoder.encode(baseline_queries_dev[\"text\"].values) \n",
    "\n",
    "baseline_queries_train[\"sbert_embeddings\"] = list(query_train_embeddings)\n",
    "baseline_queries_dev[\"sbert_embeddings\"] = list(query_dev_embeddings)"
   ],
   "outputs": [],
   "execution_count": null
  },
  {
   "cell_type": "code",
   "id": "898c1c2d-47dc-4cf4-880c-e0ec7da48057",
   "metadata": {},
   "source": [
    "train_similarities = cosine_similarity(\n",
    "    list(baseline_queries_train[\"sbert_embeddings\"].values), list(corpus[\"sbert_embeddings\"].values)\n",
    ")\n",
    "dev_similarities = cosine_similarity(\n",
    "    list(baseline_queries_dev[\"sbert_embeddings\"].values), list(corpus[\"sbert_embeddings\"].values)\n",
    ")"
   ],
   "outputs": [],
   "execution_count": null
  },
  {
   "cell_type": "code",
   "id": "277daf6b-1b6f-48bd-979a-badbacf344e9",
   "metadata": {},
   "source": [
    "train_predictions = [\n",
    "    {\n",
    "        \"query_id\": baseline_queries_train.iloc[i][\"query_id\"],\n",
    "        \"relevant_candidates\": [\n",
    "            corpus.iloc[candidate_index][\"argument_id\"]\n",
    "            for candidate_index in candidates.argsort()[::-1][:1000]\n",
    "        ]\n",
    "    }\n",
    "    for i, candidates in enumerate(train_similarities)\n",
    "]\n",
    "\n",
    "dev_predictions = [\n",
    "    {\n",
    "        \"query_id\": baseline_queries_dev.iloc[i][\"query_id\"],\n",
    "        \"relevant_candidates\": [\n",
    "            corpus.iloc[candidate_index][\"argument_id\"]\n",
    "            for candidate_index in candidates.argsort()[::-1][:1000]\n",
    "        ]\n",
    "    }\n",
    "    for i, candidates in enumerate(dev_similarities)\n",
    "]\n",
    "\n",
    "pd.DataFrame(train_predictions).to_json(\"sbert_train_predictions.jsonl\", orient=\"records\", lines=True)\n",
    "pd.DataFrame(dev_predictions).to_json(\"sbert_dev_predictions.jsonl\", orient=\"records\", lines=True)"
   ],
   "outputs": [],
   "execution_count": null
  },
  {
   "cell_type": "markdown",
   "id": "0a46cf5a-92f7-4a3b-b74c-a9a12e8f5073",
   "metadata": {},
   "source": [
    "## BM25"
   ]
  },
  {
   "cell_type": "code",
   "id": "4bc62624-b386-44d5-9e3d-d9f51f513895",
   "metadata": {},
   "source": [
    "corpus[\"bm25_tokens\"] = corpus[\"argument\"].str.split()\n",
    "bm25_corpus = BM25Okapi(corpus[\"bm25_tokens\"].values)"
   ],
   "outputs": [],
   "execution_count": null
  },
  {
   "cell_type": "code",
   "id": "03a266c6-e757-4366-ab9f-8879b9f71de2",
   "metadata": {},
   "source": [
    "train_similarities = numpy.array([bm25_corpus.get_scores(query.split()) for query in baseline_queries_train[\"text\"]])\n",
    "dev_similarities = numpy.array([bm25_corpus.get_scores(query.split()) for query in baseline_queries_dev[\"text\"]])"
   ],
   "outputs": [],
   "execution_count": null
  },
  {
   "cell_type": "code",
   "id": "cff1952e-0424-42cb-820f-e727278e2f7b",
   "metadata": {},
   "source": [
    "train_predictions = [\n",
    "    {\n",
    "        \"query_id\": baseline_queries_train.iloc[i][\"query_id\"],\n",
    "        \"relevant_candidates\": [\n",
    "            corpus.iloc[candidate_index][\"argument_id\"]\n",
    "            for candidate_index in candidates.argsort()[::-1][:1000]\n",
    "        ]\n",
    "    }\n",
    "    for i, candidates in enumerate(train_similarities)\n",
    "]\n",
    "\n",
    "dev_predictions = [\n",
    "    {\n",
    "        \"query_id\": baseline_queries_dev.iloc[i][\"query_id\"],\n",
    "        \"relevant_candidates\": [\n",
    "            corpus.iloc[candidate_index][\"argument_id\"]\n",
    "            for candidate_index in candidates.argsort()[::-1][:1000]\n",
    "        ]\n",
    "    }\n",
    "    for i, candidates in enumerate(dev_similarities)\n",
    "]\n",
    "\n",
    "pd.DataFrame(train_predictions).to_json(\"bm25_train_predictions.jsonl\", orient=\"records\", lines=True)\n",
    "pd.DataFrame(dev_predictions).to_json(\"bm25_dev_predictions.jsonl\", orient=\"records\", lines=True)"
   ],
   "outputs": [],
   "execution_count": null
  },
  {
   "cell_type": "markdown",
   "id": "2ea9e155-c253-44d6-8954-7d5a397728eb",
   "metadata": {},
   "source": [
    "## Evaluation\n",
    "Evaluate train and dev baseline predictions for sbert and bm25."
   ]
  },
  {
   "cell_type": "code",
   "id": "45aa4e3b-0747-4856-a117-200133bca7a5",
   "metadata": {},
   "source": [
    "for baseline_method in [\"sbert\", \"bm25\"]:\n",
    "    for split in [\"train\", \"dev\"]:\n",
    "        os.system(f\"python3 scripts/evaluation.py --data ./data --scenario baseline --split {split} --predictions  {baseline_method}_{split}_predictions.jsonl --output_dir results/{baseline_method} --diversity True --implicit False\")"
   ],
   "outputs": [],
   "execution_count": null
  }
 ],
 "metadata": {
  "kernelspec": {
   "display_name": "Python 3 (ipykernel)",
   "language": "python",
   "name": "python3"
  },
  "language_info": {
   "codemirror_mode": {
    "name": "ipython",
    "version": 3
   },
   "file_extension": ".py",
   "mimetype": "text/x-python",
   "name": "python",
   "nbconvert_exporter": "python",
   "pygments_lexer": "ipython3",
   "version": "3.10.12"
  }
 },
 "nbformat": 4,
 "nbformat_minor": 5
}
